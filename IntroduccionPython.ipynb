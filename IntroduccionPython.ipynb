{
  "nbformat": 4,
  "nbformat_minor": 0,
  "metadata": {
    "colab": {
      "provenance": [],
      "toc_visible": true,
      "authorship_tag": "ABX9TyO2B5l9sUocBjt4TRkpnOS5",
      "include_colab_link": true
    },
    "kernelspec": {
      "name": "python3",
      "display_name": "Python 3"
    },
    "language_info": {
      "name": "python"
    }
  },
  "cells": [
    {
      "cell_type": "markdown",
      "metadata": {
        "id": "view-in-github",
        "colab_type": "text"
      },
      "source": [
        "<a href=\"https://colab.research.google.com/github/hgonzalez1626/introduccionpython/blob/main/IntroduccionPython.ipynb\" target=\"_parent\"><img src=\"https://colab.research.google.com/assets/colab-badge.svg\" alt=\"Open In Colab\"/></a>"
      ]
    },
    {
      "cell_type": "markdown",
      "source": [
        "# **1) Introducción a Python**\n",
        "<img src=\"https://upload.wikimedia.org/wikipedia/commons/thumb/c/c3/Python-logo-notext.svg/701px-Python-logo-notext.svg.png\" width=100, align=\"right\" >\n",
        "\n",
        "Python es un lenguaje de programación de alto nivel, interpretado, interactivo y orientado a objetos. Fue creado por Guido van Rossum y su primera versión fue lanzada en 1991. Python es conocido por su simplicidad y legibilidad, lo que facilita el aprendizaje y la escritura de código. Se utiliza ampliamente en diversas áreas, como desarrollo web, análisis de datos, inteligencia artificial, automatización, desarrollo de videojuegos y muchas otras aplicaciones.\n",
        "\n",
        "Phyton se ha utilizado para crear grandes aplicaciones Ejm:\n",
        "\n",
        "  * Instagram\n",
        "  * Spotify\n",
        "  * Youtube\n",
        "  * Dropbox\n",
        "  * Reddit\n",
        "  * Pinterest\n",
        "\n"
      ],
      "metadata": {
        "id": "5W4HVG6LtOz-"
      }
    },
    {
      "cell_type": "code",
      "source": [],
      "metadata": {
        "id": "YEV8eCjNtcqO"
      },
      "execution_count": null,
      "outputs": []
    },
    {
      "cell_type": "markdown",
      "source": [
        "# **2) Python para la ciencia de datos**\n",
        "\n",
        "Según lo revelado por los resultados de una encuesta realizada por Kaggle una plataforna de científicos de datos, Python es el más usado en cuanto a lenguaje de programación, seguido de SQL y R para el tema de ciencia de Datos.\n",
        "\n",
        "Python es uno de los lenguajes de programación más populares y versátiles utilizados en la ciencia de datos. Gracias a su simplicidad y a su amplia variedad de bibliotecas especializadas, Python se ha convertido en una herramienta esencial para científicos de datos, analistas y desarrolladores de todo el mundo.\n",
        "\n",
        "A continuación se presentan algunas bibliotecas y herramientas clave de Python para la ciencia de datos:\n",
        "\n",
        "NumPy: Biblioteca de Python para realizar operaciones matemáticas y de álgebra lineal con arreglos multidimensionales y funciones matriciales.\n",
        "\n",
        "pandas: Biblioteca para la manipulación y análisis de datos que proporciona estructuras de datos como DataFrames y Series, que facilitan el trabajo con datos estructurados.\n",
        "\n",
        "Matplotlib: Biblioteca para la creación de gráficos y visualizaciones en 2D y 3D, permitiendo la representación de datos de manera efectiva y personalizada.\n",
        "\n",
        "seaborn: Basada en Matplotlib, seaborn es una biblioteca de visualización de datos estadísticos que proporciona una interfaz de alto nivel para crear gráficos informativos y atractivos.\n",
        "\n",
        "SciPy: Extiende las capacidades de NumPy al incluir funciones adicionales para optimización, álgebra lineal, integración, interpolación, estadísticas, entre otras.\n",
        "\n",
        "scikit-learn: Biblioteca de aprendizaje automático (machine learning) que incluye herramientas para clasificación, regresión, clustering, reducción de dimensionalidad, selección de modelos y preprocesamiento de datos.\n",
        "\n",
        "TensorFlow: Desarrollada por Google, TensorFlow es una biblioteca de código abierto para la creación y entrenamiento de modelos de aprendizaje profundo (deep learning) y aprendizaje automático.\n",
        "\n",
        "Keras: Interfaz de alto nivel para TensorFlow y otras bibliotecas de aprendizaje profundo que simplifica la creación y el entrenamiento de redes neuronales.\n",
        "\n",
        "PyTorch: Desarrollada por Facebook, PyTorch es otra biblioteca de aprendizaje profundo que facilita la creación de modelos de aprendizaje automático con mayor flexibilidad y dinamismo.\n",
        "\n",
        "Jupyter Notebook: Entorno de desarrollo interactivo basado en navegador para crear y compartir documentos que contienen código, ecuaciones, visualizaciones y texto explicativo.\n",
        "\n",
        "Stastmodels: R de python\n"
      ],
      "metadata": {
        "id": "Impmg5vCwhWH"
      }
    },
    {
      "cell_type": "code",
      "source": [],
      "metadata": {
        "id": "oQpkFvUCwxVn"
      },
      "execution_count": null,
      "outputs": []
    },
    {
      "cell_type": "markdown",
      "source": [
        "# **3) Fundamentos de Programción en Python**\n",
        "\n",
        "## **3.1) Usando Python como calculadora**"
      ],
      "metadata": {
        "id": "xs-4nOot3qvU"
      }
    },
    {
      "cell_type": "code",
      "source": [
        "# Sumar\n",
        "65+9"
      ],
      "metadata": {
        "colab": {
          "base_uri": "https://localhost:8080/"
        },
        "id": "59_9P-hw4yjz",
        "outputId": "1d65a41a-acaa-4a84-cd18-596a4fda5d63"
      },
      "execution_count": 3,
      "outputs": [
        {
          "output_type": "execute_result",
          "data": {
            "text/plain": [
              "74"
            ]
          },
          "metadata": {},
          "execution_count": 3
        }
      ]
    },
    {
      "cell_type": "code",
      "source": [
        "#Dividir\n",
        "49/7\n"
      ],
      "metadata": {
        "colab": {
          "base_uri": "https://localhost:8080/"
        },
        "id": "ZDFmHoE65OJR",
        "outputId": "6b62966f-d3c8-43b8-80a6-396550834fea"
      },
      "execution_count": 4,
      "outputs": [
        {
          "output_type": "execute_result",
          "data": {
            "text/plain": [
              "7.0"
            ]
          },
          "metadata": {},
          "execution_count": 4
        }
      ]
    },
    {
      "cell_type": "code",
      "source": [
        "#Resta\n",
        "8-9\n"
      ],
      "metadata": {
        "colab": {
          "base_uri": "https://localhost:8080/"
        },
        "id": "3iddeAiA5YlF",
        "outputId": "544873b2-71b2-4c3b-808c-a33020cb25c7"
      },
      "execution_count": 5,
      "outputs": [
        {
          "output_type": "execute_result",
          "data": {
            "text/plain": [
              "-1"
            ]
          },
          "metadata": {},
          "execution_count": 5
        }
      ]
    },
    {
      "cell_type": "code",
      "source": [
        "#Multiplicar\n",
        "8*89\n"
      ],
      "metadata": {
        "colab": {
          "base_uri": "https://localhost:8080/"
        },
        "id": "wV-TUDox6FQg",
        "outputId": "93f7a6f5-45d7-4939-c293-67ede75305ea"
      },
      "execution_count": 6,
      "outputs": [
        {
          "output_type": "execute_result",
          "data": {
            "text/plain": [
              "712"
            ]
          },
          "metadata": {},
          "execution_count": 6
        }
      ]
    },
    {
      "cell_type": "markdown",
      "source": [
        "# **3.2) Sintaxis y estructura Básica**\n",
        "\n",
        "***Variables Numericas***"
      ],
      "metadata": {
        "id": "kFVBjb866Nel"
      }
    },
    {
      "cell_type": "code",
      "source": [
        "## Enteras\n",
        "Edad=18"
      ],
      "metadata": {
        "id": "uwRmybIM6dD5"
      },
      "execution_count": 7,
      "outputs": []
    },
    {
      "cell_type": "code",
      "source": [
        "print(Edad)"
      ],
      "metadata": {
        "colab": {
          "base_uri": "https://localhost:8080/"
        },
        "id": "W7tauaLm7umh",
        "outputId": "43c94d3d-48f0-4604-dcaf-7a2712034642"
      },
      "execution_count": 8,
      "outputs": [
        {
          "output_type": "stream",
          "name": "stdout",
          "text": [
            "18\n"
          ]
        }
      ]
    },
    {
      "cell_type": "code",
      "source": [
        "print(f'El Vr de la variable es {Edad}')"
      ],
      "metadata": {
        "colab": {
          "base_uri": "https://localhost:8080/"
        },
        "id": "BXNP7J6d77KR",
        "outputId": "f8b0cea5-0c2f-4401-aafb-8d3dd1f53aaa"
      },
      "execution_count": 9,
      "outputs": [
        {
          "output_type": "stream",
          "name": "stdout",
          "text": [
            "El Vr de la variable es 18\n"
          ]
        }
      ]
    },
    {
      "cell_type": "code",
      "source": [
        "## Decimales \n",
        "Pi=3.14"
      ],
      "metadata": {
        "id": "6cBh3K_S8E6B"
      },
      "execution_count": 10,
      "outputs": []
    },
    {
      "cell_type": "code",
      "source": [
        "print(f'El Vr de PI es: {Pi}')"
      ],
      "metadata": {
        "colab": {
          "base_uri": "https://localhost:8080/"
        },
        "id": "kgsmPy568TM5",
        "outputId": "bcefe054-21d4-4232-d7f3-375b418480f3"
      },
      "execution_count": 11,
      "outputs": [
        {
          "output_type": "stream",
          "name": "stdout",
          "text": [
            "El Vr de PI es: 3.14\n"
          ]
        }
      ]
    },
    {
      "cell_type": "code",
      "source": [
        "## Type Data\n",
        "type(Edad)"
      ],
      "metadata": {
        "colab": {
          "base_uri": "https://localhost:8080/"
        },
        "id": "QwtnPma98cd5",
        "outputId": "c6f4168d-3122-4eda-a0ac-442865e116dc"
      },
      "execution_count": 12,
      "outputs": [
        {
          "output_type": "execute_result",
          "data": {
            "text/plain": [
              "int"
            ]
          },
          "metadata": {},
          "execution_count": 12
        }
      ]
    },
    {
      "cell_type": "code",
      "source": [
        "## Type Data\n",
        "type(Pi)"
      ],
      "metadata": {
        "colab": {
          "base_uri": "https://localhost:8080/"
        },
        "id": "yHCwERir8oCg",
        "outputId": "44fa2bd2-20f4-4459-cbdd-d513c21941cf"
      },
      "execution_count": 13,
      "outputs": [
        {
          "output_type": "execute_result",
          "data": {
            "text/plain": [
              "float"
            ]
          },
          "metadata": {},
          "execution_count": 13
        }
      ]
    },
    {
      "cell_type": "code",
      "source": [
        "### Transformar un float a un int\n",
        "Pi_entero=int( Pi )\n"
      ],
      "metadata": {
        "id": "XidV88ox_nJh"
      },
      "execution_count": 15,
      "outputs": []
    },
    {
      "cell_type": "code",
      "source": [
        "### Variables Sttrin, text se generan con \"\", ''\n",
        "Nombre=\"Sara\""
      ],
      "metadata": {
        "id": "gO_KWlABA4-d"
      },
      "execution_count": 16,
      "outputs": []
    },
    {
      "cell_type": "code",
      "source": [
        "print(Nombre)"
      ],
      "metadata": {
        "colab": {
          "base_uri": "https://localhost:8080/"
        },
        "id": "CbXvTnyIBkHd",
        "outputId": "f48d2422-b524-4ba6-9778-3541fcf760f3"
      },
      "execution_count": 17,
      "outputs": [
        {
          "output_type": "stream",
          "name": "stdout",
          "text": [
            "Sara\n"
          ]
        }
      ]
    },
    {
      "cell_type": "code",
      "source": [
        "type(Nombre)"
      ],
      "metadata": {
        "colab": {
          "base_uri": "https://localhost:8080/"
        },
        "id": "xH3XtqFWBu7x",
        "outputId": "403d3dfb-e8f1-489d-dfac-ac4004ca8c4e"
      },
      "execution_count": 18,
      "outputs": [
        {
          "output_type": "execute_result",
          "data": {
            "text/plain": [
              "str"
            ]
          },
          "metadata": {},
          "execution_count": 18
        }
      ]
    },
    {
      "cell_type": "code",
      "source": [
        "### Concatenar String\n",
        "Apellido=\"Villarraga\""
      ],
      "metadata": {
        "id": "3__b471mB4KR"
      },
      "execution_count": 19,
      "outputs": []
    },
    {
      "cell_type": "code",
      "source": [
        "NombreCompleto= Nombre+\" \"+Apellido"
      ],
      "metadata": {
        "id": "riIFPtuJCQIt"
      },
      "execution_count": 23,
      "outputs": []
    },
    {
      "cell_type": "code",
      "source": [
        "print(NombreCompleto)"
      ],
      "metadata": {
        "colab": {
          "base_uri": "https://localhost:8080/"
        },
        "id": "NeDvqr1QCW09",
        "outputId": "4de158a1-e34c-498c-faa2-ee42d0c137b3"
      },
      "execution_count": 24,
      "outputs": [
        {
          "output_type": "stream",
          "name": "stdout",
          "text": [
            "Sara Villarraga\n"
          ]
        }
      ]
    },
    {
      "cell_type": "code",
      "source": [
        "NombreCompleto*100"
      ],
      "metadata": {
        "colab": {
          "base_uri": "https://localhost:8080/",
          "height": 122
        },
        "id": "Y6CyUVRJCaWT",
        "outputId": "9655fa88-15b3-4aaf-8667-354be100e480"
      },
      "execution_count": 25,
      "outputs": [
        {
          "output_type": "execute_result",
          "data": {
            "text/plain": [
              "'Sara VillarragaSara VillarragaSara VillarragaSara VillarragaSara VillarragaSara VillarragaSara VillarragaSara VillarragaSara VillarragaSara VillarragaSara VillarragaSara VillarragaSara VillarragaSara VillarragaSara VillarragaSara VillarragaSara VillarragaSara VillarragaSara VillarragaSara VillarragaSara VillarragaSara VillarragaSara VillarragaSara VillarragaSara VillarragaSara VillarragaSara VillarragaSara VillarragaSara VillarragaSara VillarragaSara VillarragaSara VillarragaSara VillarragaSara VillarragaSara VillarragaSara VillarragaSara VillarragaSara VillarragaSara VillarragaSara VillarragaSara VillarragaSara VillarragaSara VillarragaSara VillarragaSara VillarragaSara VillarragaSara VillarragaSara VillarragaSara VillarragaSara VillarragaSara VillarragaSara VillarragaSara VillarragaSara VillarragaSara VillarragaSara VillarragaSara VillarragaSara VillarragaSara VillarragaSara VillarragaSara VillarragaSara VillarragaSara VillarragaSara VillarragaSara VillarragaSara VillarragaSara VillarragaSara VillarragaSara VillarragaSara VillarragaSara VillarragaSara VillarragaSara VillarragaSara VillarragaSara VillarragaSara VillarragaSara VillarragaSara VillarragaSara VillarragaSara VillarragaSara VillarragaSara VillarragaSara VillarragaSara VillarragaSara VillarragaSara VillarragaSara VillarragaSara VillarragaSara VillarragaSara VillarragaSara VillarragaSara VillarragaSara VillarragaSara VillarragaSara VillarragaSara VillarragaSara VillarragaSara VillarragaSara VillarragaSara Villarraga'"
            ],
            "application/vnd.google.colaboratory.intrinsic+json": {
              "type": "string"
            }
          },
          "metadata": {},
          "execution_count": 25
        }
      ]
    },
    {
      "cell_type": "code",
      "source": [
        "## Acceder a las letras del String\n",
        "NombreCompleto[5]"
      ],
      "metadata": {
        "colab": {
          "base_uri": "https://localhost:8080/",
          "height": 35
        },
        "id": "qIQAWrU9Cydt",
        "outputId": "c3fc8049-947b-45c6-f211-df86fd1d6135"
      },
      "execution_count": 26,
      "outputs": [
        {
          "output_type": "execute_result",
          "data": {
            "text/plain": [
              "'V'"
            ],
            "application/vnd.google.colaboratory.intrinsic+json": {
              "type": "string"
            }
          },
          "metadata": {},
          "execution_count": 26
        }
      ]
    },
    {
      "cell_type": "code",
      "source": [
        "len(NombreCompleto) ##Tamaño o posiciones"
      ],
      "metadata": {
        "colab": {
          "base_uri": "https://localhost:8080/"
        },
        "id": "88auvmReC7Xh",
        "outputId": "8f9646dd-318e-4848-f350-8bc2c2bb9768"
      },
      "execution_count": 27,
      "outputs": [
        {
          "output_type": "execute_result",
          "data": {
            "text/plain": [
              "15"
            ]
          },
          "metadata": {},
          "execution_count": 27
        }
      ]
    },
    {
      "cell_type": "code",
      "source": [
        "NombreCompleto[-1] ## Ultima Posiscion"
      ],
      "metadata": {
        "colab": {
          "base_uri": "https://localhost:8080/",
          "height": 35
        },
        "id": "dHDp6tnNDPYF",
        "outputId": "07b10803-0c6d-4bd7-e24b-6c3c7dedebfb"
      },
      "execution_count": 28,
      "outputs": [
        {
          "output_type": "execute_result",
          "data": {
            "text/plain": [
              "'a'"
            ],
            "application/vnd.google.colaboratory.intrinsic+json": {
              "type": "string"
            }
          },
          "metadata": {},
          "execution_count": 28
        }
      ]
    },
    {
      "cell_type": "code",
      "source": [
        "NombreCompleto[0:4] ## Otra forma por rango"
      ],
      "metadata": {
        "colab": {
          "base_uri": "https://localhost:8080/",
          "height": 35
        },
        "id": "BsKTBnf_DV0R",
        "outputId": "b27ffc69-c5b1-42fc-ffb0-b0cf1f8b6def"
      },
      "execution_count": 29,
      "outputs": [
        {
          "output_type": "execute_result",
          "data": {
            "text/plain": [
              "'Sara'"
            ],
            "application/vnd.google.colaboratory.intrinsic+json": {
              "type": "string"
            }
          },
          "metadata": {},
          "execution_count": 29
        }
      ]
    },
    {
      "cell_type": "code",
      "source": [
        "## Separa String\n",
        "NombreCompleto.split(\" \")"
      ],
      "metadata": {
        "colab": {
          "base_uri": "https://localhost:8080/"
        },
        "id": "vNP1g6-VDtwd",
        "outputId": "a9104865-8168-4610-9914-b9c44543d8ee"
      },
      "execution_count": 30,
      "outputs": [
        {
          "output_type": "execute_result",
          "data": {
            "text/plain": [
              "['Sara', 'Villarraga']"
            ]
          },
          "metadata": {},
          "execution_count": 30
        }
      ]
    },
    {
      "cell_type": "code",
      "source": [],
      "metadata": {
        "id": "w38u_zgJD-wB"
      },
      "execution_count": 49,
      "outputs": []
    },
    {
      "cell_type": "markdown",
      "source": [
        "# **3.2.2) Estructuras de Datos**\n",
        "\n",
        "***Listas***"
      ],
      "metadata": {
        "id": "rcFGnyPDJ9JV"
      }
    },
    {
      "cell_type": "code",
      "source": [
        "##Una lista siempre se crea con []\n",
        "Lista_Edades=[]"
      ],
      "metadata": {
        "id": "ZxRrx0yvEWUy"
      },
      "execution_count": 35,
      "outputs": []
    },
    {
      "cell_type": "code",
      "source": [
        "type(Lista_Edades)"
      ],
      "metadata": {
        "colab": {
          "base_uri": "https://localhost:8080/"
        },
        "id": "Widz6FTuEuBZ",
        "outputId": "3ca0a952-c19d-4f5f-b094-fa84c74cc3e8"
      },
      "execution_count": 36,
      "outputs": [
        {
          "output_type": "execute_result",
          "data": {
            "text/plain": [
              "list"
            ]
          },
          "metadata": {},
          "execution_count": 36
        }
      ]
    },
    {
      "cell_type": "code",
      "source": [
        "Lista_Edades=[24,56,12,52,85]"
      ],
      "metadata": {
        "id": "643SlhruEybF"
      },
      "execution_count": 37,
      "outputs": []
    },
    {
      "cell_type": "code",
      "source": [
        "print(Lista_Edades)"
      ],
      "metadata": {
        "colab": {
          "base_uri": "https://localhost:8080/"
        },
        "id": "8OIIc9WEE3iW",
        "outputId": "9937a791-b5a9-439d-e698-7af8a2c2d7f2"
      },
      "execution_count": 38,
      "outputs": [
        {
          "output_type": "stream",
          "name": "stdout",
          "text": [
            "[24, 56, 12, 52, 85]\n"
          ]
        }
      ]
    },
    {
      "cell_type": "code",
      "source": [
        "## Acceder a la informacion de la lista\n",
        "Lista_Edades[3]"
      ],
      "metadata": {
        "colab": {
          "base_uri": "https://localhost:8080/"
        },
        "id": "jAuYC4mIE6od",
        "outputId": "d92a63fd-44c2-4f57-b576-57e883c1663f"
      },
      "execution_count": 39,
      "outputs": [
        {
          "output_type": "execute_result",
          "data": {
            "text/plain": [
              "52"
            ]
          },
          "metadata": {},
          "execution_count": 39
        }
      ]
    },
    {
      "cell_type": "code",
      "source": [
        "len(Lista_Edades)"
      ],
      "metadata": {
        "colab": {
          "base_uri": "https://localhost:8080/"
        },
        "id": "wL2KQRHsFh4F",
        "outputId": "996f5e31-b1b6-481c-911e-f09699b917ae"
      },
      "execution_count": 40,
      "outputs": [
        {
          "output_type": "execute_result",
          "data": {
            "text/plain": [
              "5"
            ]
          },
          "metadata": {},
          "execution_count": 40
        }
      ]
    },
    {
      "cell_type": "code",
      "source": [
        "Lista_Edades[-1]\n",
        "Lista_Edades[-3]\n",
        "Lista_Edades[0:3]"
      ],
      "metadata": {
        "colab": {
          "base_uri": "https://localhost:8080/"
        },
        "id": "PB1PpQZJFmBF",
        "outputId": "331f18bf-b20b-499b-f09e-11faa86c17fc"
      },
      "execution_count": 42,
      "outputs": [
        {
          "output_type": "execute_result",
          "data": {
            "text/plain": [
              "[24, 56, 12]"
            ]
          },
          "metadata": {},
          "execution_count": 42
        }
      ]
    },
    {
      "cell_type": "code",
      "source": [
        "## Agreagr Datos nuevos append siempre agrega, al final del dato\n",
        "Lista_Edades.append(102)"
      ],
      "metadata": {
        "id": "cSP5S7eNF5Z-"
      },
      "execution_count": 43,
      "outputs": []
    },
    {
      "cell_type": "code",
      "source": [
        "## Insertar Datos\n",
        "Lista_Edades.insert(2,42)"
      ],
      "metadata": {
        "id": "meMOohSnGPb9"
      },
      "execution_count": 44,
      "outputs": []
    },
    {
      "cell_type": "code",
      "source": [
        "##Pedir informacion\n",
        "Edad=int(input(\"Ingrese su edad: \"))"
      ],
      "metadata": {
        "colab": {
          "base_uri": "https://localhost:8080/"
        },
        "id": "M5toXbWiGjB9",
        "outputId": "c1399ce8-497c-4355-f8e5-6518f6ee26f6"
      },
      "execution_count": 47,
      "outputs": [
        {
          "name": "stdout",
          "output_type": "stream",
          "text": [
            "Ingrese su edad: 42\n"
          ]
        }
      ]
    },
    {
      "cell_type": "code",
      "source": [
        "## Usuario que edad tiene\n",
        "anioNacimiento=int(input('Ingrese su año de nto: '))\n",
        "EdadActual=2023-anioNacimiento\n",
        "print(f'Su edad es: {EdadActual}')"
      ],
      "metadata": {
        "colab": {
          "base_uri": "https://localhost:8080/"
        },
        "id": "R1oJA94xG5Ym",
        "outputId": "179b1e57-8679-4586-a653-879d960eb92c"
      },
      "execution_count": 48,
      "outputs": [
        {
          "output_type": "stream",
          "name": "stdout",
          "text": [
            "Ingrese su año de nto: 1980\n",
            "Su edad es: 43\n"
          ]
        }
      ]
    },
    {
      "cell_type": "markdown",
      "source": [
        "# **Resultado**\n",
        "\n",
        "***Ejercicio 1: Encuentre el área de un triángulo rectángulo isósceles a partir de \n",
        "la longitud de sus catetos, ingresados por el usuario. Recuerde que un \n",
        "triángulo isósceles tiene dos lados iguales y que el área de un triángulo está dada por: (base * altura)/2***\n"
      ],
      "metadata": {
        "id": "gdhN8WCgKTBr"
      }
    },
    {
      "cell_type": "code",
      "source": [],
      "metadata": {
        "id": "r4j1dhK6KWya"
      },
      "execution_count": null,
      "outputs": []
    }
  ]
}